{
 "cells": [
  {
   "cell_type": "code",
   "execution_count": 91,
   "metadata": {},
   "outputs": [],
   "source": [
    "import XLUtils\n",
    "import select \n",
    "import time\n",
    "from selenium.webdriver.common.keys import Keys\n",
    "from selenium import webdriver\n",
    "\n",
    "chromedriver = \"/home/sagar/Downloads/chromedriver_linux64 (1)/chromedriver\"\n",
    "driver = webdriver.Chrome(chromedriver)\n",
    "driver.get('https://www.iaqg.org/oasis/csd')\n",
    "driver.set_page_load_timeout(30)"
   ]
  },
  {
   "cell_type": "code",
   "execution_count": 92,
   "metadata": {},
   "outputs": [],
   "source": [
    "driver.find_element_by_xpath(\"//input[contains(@id,'frm-login-1-input')]\").send_keys('hdudee@valuechain.com')\n",
    "driver.find_element_by_xpath(\"//input[contains(@id,'frm-login-2-input')]\").send_keys('iQluster2017')\n",
    "driver.find_element_by_xpath(\"//form[@name='logon']//span[text()='Login']\").click()\n",
    "time.sleep(10)\n"
   ]
  },
  {
   "cell_type": "code",
   "execution_count": 93,
   "metadata": {},
   "outputs": [],
   "source": [
    "from selenium.webdriver.support.select import Select\n",
    "select_fr = Select(driver.find_element_by_xpath(\"//select[contains(@id,'country')]\"))\n",
    "select_fr.select_by_visible_text(\"Malaysia\")\n",
    "\n",
    "select_f = Select(driver.find_element_by_xpath(\"//select[contains(@id,'pageCount')]\"))\n",
    "select_f.select_by_visible_text(\"200\")\n",
    "driver.find_element_by_xpath(\"//input[@value='Search Certified Suppliers']\").click()"
   ]
  },
  {
   "cell_type": "code",
   "execution_count": 94,
   "metadata": {
    "scrolled": false
   },
   "outputs": [
    {
     "name": "stdout",
     "output_type": "stream",
     "text": [
      "Contact\n",
      "Lim Chin Yew Phone\n",
      "(60) 3-80618409 Email\n",
      "info@gettools.biz\n",
      "Contact\n",
      "Lim Chin Yew Phone\n",
      "(60) 3-80618409 Email\n",
      "info@gettools.biz\n",
      "Contact\n",
      "Lim Chin Yew Phone\n",
      "(60) 3-80618409 Email\n",
      "info@gettools.biz\n",
      "Contact\n",
      "Lim Chin Yew Phone\n",
      "(60) 3-80618409 Email\n",
      "info@gettools.biz\n",
      "Contact\n",
      "Lim Chin Yew Phone\n",
      "(60) 3-80618409 Email\n",
      "info@gettools.biz\n",
      "Contact\n",
      "Lim Chin Yew Phone\n",
      "(60) 3-80618409 Email\n",
      "info@gettools.biz\n",
      "Contact\n",
      "Lim Chin Yew Phone\n",
      "(60) 3-80618409 Email\n",
      "info@gettools.biz\n",
      "Contact\n",
      "Lim Chin Yew Phone\n",
      "(60) 3-80618409 Email\n",
      "info@gettools.biz\n"
     ]
    },
    {
     "ename": "WebDriverException",
     "evalue": "Message: chrome not reachable\n  (Session info: chrome=79.0.3945.130)\n",
     "output_type": "error",
     "traceback": [
      "\u001b[0;31m---------------------------------------------------------------------------\u001b[0m",
      "\u001b[0;31mWebDriverException\u001b[0m                        Traceback (most recent call last)",
      "\u001b[0;32m<ipython-input-94-7a0089e801bd>\u001b[0m in \u001b[0;36m<module>\u001b[0;34m\u001b[0m\n\u001b[1;32m      6\u001b[0m     \u001b[0mdriver\u001b[0m\u001b[0;34m.\u001b[0m\u001b[0mfind_element_by_xpath\u001b[0m\u001b[0;34m(\u001b[0m\u001b[0;34m\"(//a[@class='key'])[2]\"\u001b[0m\u001b[0;34m)\u001b[0m\u001b[0;34m.\u001b[0m\u001b[0mclick\u001b[0m\u001b[0;34m(\u001b[0m\u001b[0;34m)\u001b[0m\u001b[0;34m\u001b[0m\u001b[0;34m\u001b[0m\u001b[0m\n\u001b[1;32m      7\u001b[0m     \u001b[0mtime\u001b[0m\u001b[0;34m.\u001b[0m\u001b[0msleep\u001b[0m\u001b[0;34m(\u001b[0m\u001b[0;36m20\u001b[0m\u001b[0;34m)\u001b[0m\u001b[0;34m\u001b[0m\u001b[0;34m\u001b[0m\u001b[0m\n\u001b[0;32m----> 8\u001b[0;31m     \u001b[0mname\u001b[0m\u001b[0;34m=\u001b[0m\u001b[0mdriver\u001b[0m\u001b[0;34m.\u001b[0m\u001b[0mfind_element_by_xpath\u001b[0m\u001b[0;34m(\u001b[0m\u001b[0;34m\"/html/body/div[6]/div/div/div[3]/div[2]/div[2]/div[2]/div/div[1]\"\u001b[0m\u001b[0;34m)\u001b[0m\u001b[0;34m.\u001b[0m\u001b[0mtext\u001b[0m\u001b[0;34m\u001b[0m\u001b[0;34m\u001b[0m\u001b[0m\n\u001b[0m\u001b[1;32m      9\u001b[0m     \u001b[0mphone\u001b[0m\u001b[0;34m=\u001b[0m\u001b[0mdriver\u001b[0m\u001b[0;34m.\u001b[0m\u001b[0mfind_element_by_xpath\u001b[0m\u001b[0;34m(\u001b[0m\u001b[0;34m\"/html/body/div[6]/div/div/div[3]/div[2]/div[2]/div[2]/div/div[2]\"\u001b[0m\u001b[0;34m)\u001b[0m\u001b[0;34m.\u001b[0m\u001b[0mtext\u001b[0m\u001b[0;34m\u001b[0m\u001b[0;34m\u001b[0m\u001b[0m\n\u001b[1;32m     10\u001b[0m     \u001b[0memail\u001b[0m\u001b[0;34m=\u001b[0m\u001b[0mdriver\u001b[0m\u001b[0;34m.\u001b[0m\u001b[0mfind_element_by_xpath\u001b[0m\u001b[0;34m(\u001b[0m\u001b[0;34m\"/html/body/div[6]/div/div/div[3]/div[2]/div[2]/div[2]/div/div[4]\"\u001b[0m\u001b[0;34m)\u001b[0m\u001b[0;34m.\u001b[0m\u001b[0mtext\u001b[0m\u001b[0;34m\u001b[0m\u001b[0;34m\u001b[0m\u001b[0m\n",
      "\u001b[0;32m~/anaconda3/lib/python3.7/site-packages/selenium/webdriver/remote/webdriver.py\u001b[0m in \u001b[0;36mfind_element_by_xpath\u001b[0;34m(self, xpath)\u001b[0m\n\u001b[1;32m    392\u001b[0m             \u001b[0melement\u001b[0m \u001b[0;34m=\u001b[0m \u001b[0mdriver\u001b[0m\u001b[0;34m.\u001b[0m\u001b[0mfind_element_by_xpath\u001b[0m\u001b[0;34m(\u001b[0m\u001b[0;34m'//div/td[1]'\u001b[0m\u001b[0;34m)\u001b[0m\u001b[0;34m\u001b[0m\u001b[0;34m\u001b[0m\u001b[0m\n\u001b[1;32m    393\u001b[0m         \"\"\"\n\u001b[0;32m--> 394\u001b[0;31m         \u001b[0;32mreturn\u001b[0m \u001b[0mself\u001b[0m\u001b[0;34m.\u001b[0m\u001b[0mfind_element\u001b[0m\u001b[0;34m(\u001b[0m\u001b[0mby\u001b[0m\u001b[0;34m=\u001b[0m\u001b[0mBy\u001b[0m\u001b[0;34m.\u001b[0m\u001b[0mXPATH\u001b[0m\u001b[0;34m,\u001b[0m \u001b[0mvalue\u001b[0m\u001b[0;34m=\u001b[0m\u001b[0mxpath\u001b[0m\u001b[0;34m)\u001b[0m\u001b[0;34m\u001b[0m\u001b[0;34m\u001b[0m\u001b[0m\n\u001b[0m\u001b[1;32m    395\u001b[0m \u001b[0;34m\u001b[0m\u001b[0m\n\u001b[1;32m    396\u001b[0m     \u001b[0;32mdef\u001b[0m \u001b[0mfind_elements_by_xpath\u001b[0m\u001b[0;34m(\u001b[0m\u001b[0mself\u001b[0m\u001b[0;34m,\u001b[0m \u001b[0mxpath\u001b[0m\u001b[0;34m)\u001b[0m\u001b[0;34m:\u001b[0m\u001b[0;34m\u001b[0m\u001b[0;34m\u001b[0m\u001b[0m\n",
      "\u001b[0;32m~/anaconda3/lib/python3.7/site-packages/selenium/webdriver/remote/webdriver.py\u001b[0m in \u001b[0;36mfind_element\u001b[0;34m(self, by, value)\u001b[0m\n\u001b[1;32m    976\u001b[0m         return self.execute(Command.FIND_ELEMENT, {\n\u001b[1;32m    977\u001b[0m             \u001b[0;34m'using'\u001b[0m\u001b[0;34m:\u001b[0m \u001b[0mby\u001b[0m\u001b[0;34m,\u001b[0m\u001b[0;34m\u001b[0m\u001b[0;34m\u001b[0m\u001b[0m\n\u001b[0;32m--> 978\u001b[0;31m             'value': value})['value']\n\u001b[0m\u001b[1;32m    979\u001b[0m \u001b[0;34m\u001b[0m\u001b[0m\n\u001b[1;32m    980\u001b[0m     \u001b[0;32mdef\u001b[0m \u001b[0mfind_elements\u001b[0m\u001b[0;34m(\u001b[0m\u001b[0mself\u001b[0m\u001b[0;34m,\u001b[0m \u001b[0mby\u001b[0m\u001b[0;34m=\u001b[0m\u001b[0mBy\u001b[0m\u001b[0;34m.\u001b[0m\u001b[0mID\u001b[0m\u001b[0;34m,\u001b[0m \u001b[0mvalue\u001b[0m\u001b[0;34m=\u001b[0m\u001b[0;32mNone\u001b[0m\u001b[0;34m)\u001b[0m\u001b[0;34m:\u001b[0m\u001b[0;34m\u001b[0m\u001b[0;34m\u001b[0m\u001b[0m\n",
      "\u001b[0;32m~/anaconda3/lib/python3.7/site-packages/selenium/webdriver/remote/webdriver.py\u001b[0m in \u001b[0;36mexecute\u001b[0;34m(self, driver_command, params)\u001b[0m\n\u001b[1;32m    319\u001b[0m         \u001b[0mresponse\u001b[0m \u001b[0;34m=\u001b[0m \u001b[0mself\u001b[0m\u001b[0;34m.\u001b[0m\u001b[0mcommand_executor\u001b[0m\u001b[0;34m.\u001b[0m\u001b[0mexecute\u001b[0m\u001b[0;34m(\u001b[0m\u001b[0mdriver_command\u001b[0m\u001b[0;34m,\u001b[0m \u001b[0mparams\u001b[0m\u001b[0;34m)\u001b[0m\u001b[0;34m\u001b[0m\u001b[0;34m\u001b[0m\u001b[0m\n\u001b[1;32m    320\u001b[0m         \u001b[0;32mif\u001b[0m \u001b[0mresponse\u001b[0m\u001b[0;34m:\u001b[0m\u001b[0;34m\u001b[0m\u001b[0;34m\u001b[0m\u001b[0m\n\u001b[0;32m--> 321\u001b[0;31m             \u001b[0mself\u001b[0m\u001b[0;34m.\u001b[0m\u001b[0merror_handler\u001b[0m\u001b[0;34m.\u001b[0m\u001b[0mcheck_response\u001b[0m\u001b[0;34m(\u001b[0m\u001b[0mresponse\u001b[0m\u001b[0;34m)\u001b[0m\u001b[0;34m\u001b[0m\u001b[0;34m\u001b[0m\u001b[0m\n\u001b[0m\u001b[1;32m    322\u001b[0m             response['value'] = self._unwrap_value(\n\u001b[1;32m    323\u001b[0m                 response.get('value', None))\n",
      "\u001b[0;32m~/anaconda3/lib/python3.7/site-packages/selenium/webdriver/remote/errorhandler.py\u001b[0m in \u001b[0;36mcheck_response\u001b[0;34m(self, response)\u001b[0m\n\u001b[1;32m    240\u001b[0m                 \u001b[0malert_text\u001b[0m \u001b[0;34m=\u001b[0m \u001b[0mvalue\u001b[0m\u001b[0;34m[\u001b[0m\u001b[0;34m'alert'\u001b[0m\u001b[0;34m]\u001b[0m\u001b[0;34m.\u001b[0m\u001b[0mget\u001b[0m\u001b[0;34m(\u001b[0m\u001b[0;34m'text'\u001b[0m\u001b[0;34m)\u001b[0m\u001b[0;34m\u001b[0m\u001b[0;34m\u001b[0m\u001b[0m\n\u001b[1;32m    241\u001b[0m             \u001b[0;32mraise\u001b[0m \u001b[0mexception_class\u001b[0m\u001b[0;34m(\u001b[0m\u001b[0mmessage\u001b[0m\u001b[0;34m,\u001b[0m \u001b[0mscreen\u001b[0m\u001b[0;34m,\u001b[0m \u001b[0mstacktrace\u001b[0m\u001b[0;34m,\u001b[0m \u001b[0malert_text\u001b[0m\u001b[0;34m)\u001b[0m\u001b[0;34m\u001b[0m\u001b[0;34m\u001b[0m\u001b[0m\n\u001b[0;32m--> 242\u001b[0;31m         \u001b[0;32mraise\u001b[0m \u001b[0mexception_class\u001b[0m\u001b[0;34m(\u001b[0m\u001b[0mmessage\u001b[0m\u001b[0;34m,\u001b[0m \u001b[0mscreen\u001b[0m\u001b[0;34m,\u001b[0m \u001b[0mstacktrace\u001b[0m\u001b[0;34m)\u001b[0m\u001b[0;34m\u001b[0m\u001b[0;34m\u001b[0m\u001b[0m\n\u001b[0m\u001b[1;32m    243\u001b[0m \u001b[0;34m\u001b[0m\u001b[0m\n\u001b[1;32m    244\u001b[0m     \u001b[0;32mdef\u001b[0m \u001b[0m_value_or_default\u001b[0m\u001b[0;34m(\u001b[0m\u001b[0mself\u001b[0m\u001b[0;34m,\u001b[0m \u001b[0mobj\u001b[0m\u001b[0;34m,\u001b[0m \u001b[0mkey\u001b[0m\u001b[0;34m,\u001b[0m \u001b[0mdefault\u001b[0m\u001b[0;34m)\u001b[0m\u001b[0;34m:\u001b[0m\u001b[0;34m\u001b[0m\u001b[0;34m\u001b[0m\u001b[0m\n",
      "\u001b[0;31mWebDriverException\u001b[0m: Message: chrome not reachable\n  (Session info: chrome=79.0.3945.130)\n"
     ]
    }
   ],
   "source": [
    "companies = driver.find_elements_by_xpath(\"//div[@class='ct-org']//strong\")\n",
    "\n",
    "for i in companies:\n",
    "    ecompanies= driver.find_element_by_xpath(\"(//a[@class='key']//strong)[1]\").click()\n",
    "    time.sleep(5)\n",
    "    driver.find_element_by_xpath(\"(//a[@class='key'])[2]\").click()\n",
    "    time.sleep(20)\n",
    "    name=driver.find_element_by_xpath(\"/html/body/div[6]/div/div/div[3]/div[2]/div[2]/div[2]/div/div[1]\").text\n",
    "    phone=driver.find_element_by_xpath(\"/html/body/div[6]/div/div/div[3]/div[2]/div[2]/div[2]/div/div[2]\").text\n",
    "    email=driver.find_element_by_xpath(\"/html/body/div[6]/div/div/div[3]/div[2]/div[2]/div[2]/div/div[4]\").text\n",
    "    print(name,phone,email)\n",
    "    time.sleep(5)\n",
    "    el = driver.find_element_by_css_selector(\"#overlay>div>div.overlay-h>a\")\n",
    "    webdriver.ActionChains(driver).move_to_element(el).click(el).perform()\n",
    "    time.sleep(5)\n",
    "    nel=driver.find_element_by_xpath(\"/html/body/div[5]/div/div[4]/div/div[2]/div[2]/a\")\n",
    "    webdriver.ActionChains(driver).move_to_element(nel).click(nel).perform()"
   ]
  },
  {
   "cell_type": "code",
   "execution_count": 89,
   "metadata": {},
   "outputs": [],
   "source": [
    "#[a[i] for i in companies]\n",
    "\n"
   ]
  },
  {
   "cell_type": "code",
   "execution_count": 22,
   "metadata": {
    "scrolled": true
   },
   "outputs": [],
   "source": [
    "#pages = driver.find_elements_by_xpath(\"//div[@class='frm-results-nav-pages']//a\")\n",
    "#for p in pages:\n",
    "    \n",
    "companies = driver.find_elements_by_xpath(\"//div[@class='ct-org']//strong[1]\")\n",
    "for elm in companies:\n",
    "    \n",
    "    companies= driver.find_element_by_xpath(\"(//a[@class='key']//strong)[1]\").click()\n",
    "    driver.find_element_by_xpath(\"(//a[@class='key'])[2]\").click()\n",
    "    name=driver.find_element_by_xpath(\"/html/body/div[6]/div/div/div[3]/div[2]/div[2]/div[2]/div/div[1]\").text\n",
    "    phone=driver.find_element_by_xpath(\"/html/body/div[6]/div/div/div[3]/div[2]/div[2]/div[2]/div/div[2]\").text\n",
    "    email=driver.find_element_by_xpath(\"/html/body/div[6]/div/div/div[3]/div[2]/div[2]/div[2]/div/div[4]\").text\n",
    "    print(name,phone,email)\n",
    "    driver.find_element_by_xpath(\"/html/body/div[6]/div/div/div[2]/a\").click\n",
    "    driver.find_element_by_xpath(\"/html/body/div[5]/div/div[4]/div/div[2]/div[2]/a\")\n",
    "    driver.find_element_by_xpath(\"//span[contains(.,'Return')]\").click\n",
    "#Address = driver.find_elements_by_xpath(\"(//div[contains(@class,'ct-address')])\")\n",
    "#Status = driver.find_elements_by_xpath(\"(//div[@class='tbl-2d-r mrkr-wrapped'])\")\n",
    "#Standard =  driver.find_elements_by_xpath(\"(//div[@class='tbl-2d-r tbl-num'])\")\n",
    "#Cernum= driver.find_elements_by_xpath(\"(//div[@class='tbl-2d-r graceful-2d'])\")\n",
    "#Cerbody = driver.find_elements_by_xpath(\"(//div[contains(@class,'tbl-2d-r tbl-2d-r-free')])\")\n",
    "\n",
    "#for elm in companies:\n",
    "#click = companies.click()\n",
    " #   print(elm.text)\n",
    "            \n",
    "    \n",
    "        #p.click()\n",
    "    #time.sleep(10)"
   ]
  },
  {
   "cell_type": "code",
   "execution_count": null,
   "metadata": {},
   "outputs": [],
   "source": [
    "path = (\"/home/sagar/Downloads/Oasis.xlsx\")\n",
    "rows=XLUtils.getRowCount(path,'Sheet2')\n",
    "\n",
    "XLUtils.writeData(path,\"Sheet2\",2,2,elm.text)"
   ]
  },
  {
   "cell_type": "code",
   "execution_count": null,
   "metadata": {},
   "outputs": [],
   "source": [
    "     int pages = driver.findElements(By.xpath(\"//div[@class='frm-results-nav-pages']//a\")).size();\n",
    "        for (int i = 0; i < pages; i++) {\n",
    "            ActionUtils.ajaxJsClick(driver, driver.findElements(By.xpath(\"//div[@class='frm-results-nav-pages']//a\")).get(i));\n",
    "            List<WebElement> c = driver.findElements(By.xpath(\"//div[contains(@class,'mrkr-wrapped')]\")); // Standard\n",
    "            for (WebElement ele : c) {\n",
    "                System.out.println(ele.getText());\n",
    "            }\n",
    "            ActionUtils.scrollBottom(driver);\n",
    "            Thread.sleep(2000);\n",
    "        }"
   ]
  }
 ],
 "metadata": {
  "kernelspec": {
   "display_name": "Python 3",
   "language": "python",
   "name": "python3"
  },
  "language_info": {
   "codemirror_mode": {
    "name": "ipython",
    "version": 3
   },
   "file_extension": ".py",
   "mimetype": "text/x-python",
   "name": "python",
   "nbconvert_exporter": "python",
   "pygments_lexer": "ipython3",
   "version": "3.7.5"
  }
 },
 "nbformat": 4,
 "nbformat_minor": 2
}
